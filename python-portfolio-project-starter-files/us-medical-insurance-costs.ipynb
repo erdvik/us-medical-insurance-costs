{
 "cells": [
  {
   "cell_type": "markdown",
   "metadata": {},
   "source": [
    "# U.S. Medical Insurance Costs"
   ]
  },
  {
   "cell_type": "markdown",
   "metadata": {},
   "source": [
    "## Goals:\n",
    "- Find the average age of patients in the dataset.\n",
    "- Analyze where the majority of the individuals are from.\n",
    "- Look at the different costs between smoker vs. non-smokers.\n",
    "- Figure out what the average age is for someone who has atleast one child in this dataset.\n"
   ]
  },
  {
   "cell_type": "code",
   "execution_count": 7,
   "metadata": {},
   "outputs": [],
   "source": [
    "# import csv library\n",
    "import csv"
   ]
  },
  {
   "cell_type": "code",
   "execution_count": null,
   "metadata": {},
   "outputs": [],
   "source": [
    "# make empty lists to store values from insurance.csv\n",
    "ages = []\n",
    "sexes = []\n",
    "num_children = []\n",
    "smoker_statuses = []\n",
    "regions = []\n",
    "insurance_ charges = []"
   ]
  },
  {
   "cell_type": "code",
   "execution_count": null,
   "metadata": {},
   "outputs": [],
   "source": [
    "# helper funciton to load csv data\n",
    "def load_list_data(lst, csv_file, column_name):\n",
    "    # open csv file\n",
    "    with open(csv_file) as csv_info:\n",
    "        # read the data from the csv file\n",
    "        csv_dict = csv.DictReader(csv_info)"
   ]
  }
 ],
 "metadata": {
  "kernelspec": {
   "display_name": "Python 3 (ipykernel)",
   "language": "python",
   "name": "python3"
  },
  "language_info": {
   "codemirror_mode": {
    "name": "ipython",
    "version": 3
   },
   "file_extension": ".py",
   "mimetype": "text/x-python",
   "name": "python",
   "nbconvert_exporter": "python",
   "pygments_lexer": "ipython3",
   "version": "3.9.7"
  }
 },
 "nbformat": 4,
 "nbformat_minor": 4
}
