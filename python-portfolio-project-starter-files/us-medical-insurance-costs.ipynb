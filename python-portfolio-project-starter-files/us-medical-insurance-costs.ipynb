{
 "cells": [
  {
   "cell_type": "markdown",
   "metadata": {},
   "source": [
    "# U.S. Medical Insurance Costs"
   ]
  },
  {
   "cell_type": "markdown",
   "metadata": {},
   "source": [
    "## Goals:\n",
    "- Find the average age of patients in the dataset.\n",
    "- Analyze where the majority of the individuals are from.\n",
    "- Look at the different costs between smoker vs. non-smokers.\n",
    "- Figure out what the average age is for someone who has atleast one child in this dataset.\n"
   ]
  },
  {
   "cell_type": "code",
   "execution_count": 118,
   "metadata": {},
   "outputs": [],
   "source": [
    "# import csv library\n",
    "import csv\n",
    "import statistics"
   ]
  },
  {
   "cell_type": "code",
   "execution_count": 119,
   "metadata": {},
   "outputs": [],
   "source": [
    "# make empty lists to store values from insurance.csv\n",
    "ages = []\n",
    "sexes = []\n",
    "bmis = []\n",
    "num_children = []\n",
    "smoker_statuses = []\n",
    "regions = []\n",
    "insurance_charges = []"
   ]
  },
  {
   "cell_type": "code",
   "execution_count": 120,
   "metadata": {},
   "outputs": [],
   "source": [
    "# helper funciton to load csv data\n",
    "def load_list_data(lst, csv_file, column_name):\n",
    "    # open csv file\n",
    "    with open(csv_file) as csv_info:\n",
    "        # read the data from the csv file\n",
    "        csv_dict = csv.DictReader(csv_info)\n",
    "        # loop through the data of each row in the csv\n",
    "        for row in csv_dict:\n",
    "            # add the data from each row to a list\n",
    "            lst.append(row[column_name])\n",
    "        #return lst\n",
    "    "
   ]
  },
  {
   "cell_type": "code",
   "execution_count": 121,
   "metadata": {},
   "outputs": [],
   "source": [
    "# look at the data in insurance_csv_dict\n",
    "load_list_data(ages, 'insurance.csv', 'age')\n",
    "load_list_data(sexes, 'insurance.csv', 'sex')\n",
    "load_list_data(bmis, 'insurance.csv', 'bmi')\n",
    "load_list_data(num_children, 'insurance.csv', 'children')\n",
    "load_list_data(smoker_statuses, 'insurance.csv', 'smoker')\n",
    "load_list_data(regions, 'insurance.csv', 'region')\n",
    "load_list_data(insurance_charges, 'insurance.csv', 'charges')"
   ]
  },
  {
   "cell_type": "code",
   "execution_count": 122,
   "metadata": {},
   "outputs": [],
   "source": [
    "# create a class that can be used to analyze patient info\n",
    "class PatientsInfo:\n",
    "    def __init__(self, ages, sexes, bmis, num_children, smoker_statuses, regions, insurance_charges):\n",
    "        self.ages = ages\n",
    "        self.sexes = sexes\n",
    "        self.bmis = bmis\n",
    "        self.num_children = num_children\n",
    "        self.smoker_statuses = smoker_statuses\n",
    "        self.regions = regions\n",
    "        self.insurance_charges = insurance_charges\n",
    "    \n",
    "    # finds the average age in the dataset\n",
    "    def average_age(self):\n",
    "        sum = 0\n",
    "        for age in self.ages:\n",
    "            sum += int(age)\n",
    "        return sum / len(self.ages)\n",
    "    \n",
    "    # finds the majority region in the dataset\n",
    "    def majority_region(self):\n",
    "        return statistics.mode(self.regions)\n",
    "\n",
    "    # prints the average cost for insurance for smokers vs non smokers\n",
    "    def smoker_vs_nonsmoker_costs(self):\n",
    "        patients = zip(self.smoker_statuses, self.insurance_charges)\n",
    "        smokers_charges = []\n",
    "        non_smokers_charges = []\n",
    "        for patient in patients:\n",
    "            if(patient[0] == 'yes'):\n",
    "                smokers_charges.append(float(patient[1]))\n",
    "            else:\n",
    "                non_smokers_charges.append(float(patient[1]))\n",
    "\n",
    "        avg_costs_smokers = statistics.mean(smokers_charges)\n",
    "        avg_costs_non_smokers = statistics.mean(non_smokers_charges)\n",
    "        \n",
    "        print('The average cost for smokers is $ {:.2f}'.format(avg_costs_smokers))\n",
    "        print('The average cost for non smokers is $ {:.2f}'.format(avg_costs_non_smokers))\n",
    "    \n",
    "    # finds the average age for patients with one child \n",
    "    def average_age_one_child(self):\n",
    "        one_child_patients = []\n",
    "        patients = zip(self.ages, self.num_children)\n",
    "        for patient in patients:\n",
    "            if patient[1] == '1':\n",
    "                one_child_patients.append(int(patient[0]))\n",
    "        avg_age = statistics.mean(one_child_patients)\n",
    "        return avg_age\n",
    "        "
   ]
  },
  {
   "cell_type": "code",
   "execution_count": 123,
   "metadata": {},
   "outputs": [],
   "source": [
    "# creates the patient_info class\n",
    "patient_info = PatientsInfo(ages, sexes, bmis, num_children, smoker_statuses, regions, insurance_charges)"
   ]
  },
  {
   "cell_type": "code",
   "execution_count": 124,
   "metadata": {},
   "outputs": [
    {
     "name": "stdout",
     "output_type": "stream",
     "text": [
      "The average age in the dataset is 39\n",
      "The majority region in the dataset is southeast\n",
      "The average cost for smokers is $ 32050.23\n",
      "The average cost for non smokers is $ 8434.27\n",
      "The average age for patients with one child is 39\n"
     ]
    }
   ],
   "source": [
    "# prints out the values for each method in the patients_info class\n",
    "\n",
    "avg_age = patient_info.average_age()\n",
    "print('The average age in the dataset is {:.0f}'.format(avg_age))\n",
    "majority_region = patient_info.majority_region()\n",
    "print('The majority region in the dataset is {}'.format(majority_region))\n",
    "patient_info.smoker_vs_nonsmoker_costs()\n",
    "avg_age_one_child_patient = patient_info.average_age_one_child()\n",
    "print('The average age for patients with one child is {:.0f}'.format(avg_age_one_child_patient))"
   ]
  }
 ],
 "metadata": {
  "kernelspec": {
   "display_name": "Python 3 (ipykernel)",
   "language": "python",
   "name": "python3"
  },
  "language_info": {
   "codemirror_mode": {
    "name": "ipython",
    "version": 3
   },
   "file_extension": ".py",
   "mimetype": "text/x-python",
   "name": "python",
   "nbconvert_exporter": "python",
   "pygments_lexer": "ipython3",
   "version": "3.9.6"
  }
 },
 "nbformat": 4,
 "nbformat_minor": 4
}
